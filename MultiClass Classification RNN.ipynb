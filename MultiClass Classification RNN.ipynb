{
  "cells": [
    {
      "metadata": {},
      "cell_type": "markdown",
      "source": "# Load Data"
    },
    {
      "metadata": {
        "trusted": true
      },
      "cell_type": "code",
      "source": "!pip install -U keras\n",
      "execution_count": null,
      "outputs": []
    },
    {
      "metadata": {
        "trusted": true
      },
      "cell_type": "code",
      "source": "# imports\n%matplotlib inline\n\nimport os\nimport pandas as pd\nimport numpy\nimport matplotlib.pyplot as plt\nimport string\nimport re\n\nfrom gensim import corpora\nfrom gensim.models import Phrases\nfrom nltk.corpus import stopwords\nfrom nltk.stem.porter import PorterStemmer\n\n#from ds_voc.text_processing import TextProcessing\n\nfrom nltk.corpus import stopwords\n\nfrom nltk.stem.porter import PorterStemmer",
      "execution_count": 1,
      "outputs": []
    },
    {
      "metadata": {
        "trusted": true
      },
      "cell_type": "code",
      "source": "file = 'incident_data.csv'\nimport pandas as pd\n\nwith open(file,'r', encoding='cp1252') as f:\n    df = pd.read_csv(f, dtype={'state':str})\n#print(df.shape)\n    \n\n#df.SentimentText = df.SentimentText.astype(str)\n",
      "execution_count": 12,
      "outputs": []
    },
    {
      "metadata": {
        "trusted": true
      },
      "cell_type": "code",
      "source": "#df.head(5)\n#df = pd.read_csv('incident_data.csv', encoding='utf-8',dtype={'state':str})\ndf.info()",
      "execution_count": 13,
      "outputs": [
        {
          "output_type": "stream",
          "text": "<class 'pandas.core.frame.DataFrame'>\nRangeIndex: 79807 entries, 0 to 79806\nData columns (total 11 columns):\nnumber                79806 non-null object\nstate                 79807 non-null object\nsys_created_on        79807 non-null object\nassigned_to           66402 non-null object\ncmdb_ci               68668 non-null object\nu_ci_name             4249 non-null object\nu_ci_not_found        79807 non-null bool\ncaller_id             79806 non-null object\ncaller_id.location    79258 non-null object\nshort_description     79806 non-null object\ndescription           79800 non-null object\ndtypes: bool(1), object(10)\nmemory usage: 6.2+ MB\n",
          "name": "stdout"
        }
      ]
    },
    {
      "metadata": {
        "trusted": true
      },
      "cell_type": "code",
      "source": "texts = list(df['description'])\ntext_labels = list(df['state'])",
      "execution_count": 15,
      "outputs": []
    },
    {
      "metadata": {
        "trusted": true
      },
      "cell_type": "code",
      "source": "#df_text =pd.DataFrame(texts,columns=['Des'],dtype=str)\ndf_text=df['description'].astype(str)\ndf_text.dtype",
      "execution_count": 18,
      "outputs": [
        {
          "output_type": "execute_result",
          "execution_count": 18,
          "data": {
            "text/plain": "dtype('O')"
          },
          "metadata": {}
        }
      ]
    },
    {
      "metadata": {
        "trusted": true
      },
      "cell_type": "code",
      "source": "df_state = pd.DataFrame(y_train,columns =['Name'],dtype=str)\ndf_state.Name.unique()",
      "execution_count": 49,
      "outputs": [
        {
          "output_type": "execute_result",
          "execution_count": 49,
          "data": {
            "text/plain": "array(['Closed', 'Active', 'New', 'Awaiting IT Information', 'Resolved',\n       'Awaiting Customer Information', 'Awaiting 3rd Party'],\n      dtype=object)"
          },
          "metadata": {}
        }
      ]
    },
    {
      "metadata": {
        "trusted": true
      },
      "cell_type": "code",
      "source": "#Converting String labels to Integer\nlabels=df_state.replace({'Closed':1,'Active':2, 'New':3, 'Awaiting IT Information':4, 'Resolved':5,\n       'Awaiting Customer Information':6, 'Awaiting 3rd Party':7 })",
      "execution_count": 50,
      "outputs": []
    },
    {
      "metadata": {},
      "cell_type": "markdown",
      "source": "# Clean Data"
    },
    {
      "metadata": {
        "trusted": true
      },
      "cell_type": "code",
      "source": "import string \nimport nltk\nfrom nltk.corpus import stopwords\nfrom nltk.stem.porter import *\n\nimport nltk\nnltk.download('stopwords')\n\n\n\nfrom nltk.stem.porter import *\ntable = str.maketrans({key: None for key in string.punctuation})\n#new_s = s.translate(table)\n\ndef default_clean(inputString):\n    return inputString.translate(table).lower()\n\n\n\nstemmer = PorterStemmer() # from nltk.stem.porter \nstop_words = set(stopwords.words('english')) \n\ndef stop_and_stem(inputString): \n    tokenized = [w for w in nltk.word_tokenize(inputString) if w not in stop_words]\n    return [stemmer.stem(w) for w in tokenized]\n\n#usual cleaning steps: removing bad characters, stop words, and stemming:\nimport nltk\nnltk.download('punkt')\ncleaned = [default_clean(d) for d in df_text] #input text - long description\nsentences = [stop_and_stem(c) for c in cleaned]",
      "execution_count": 20,
      "outputs": [
        {
          "output_type": "stream",
          "text": "[nltk_data] Downloading package stopwords to /home/nbuser/nltk_data...\n[nltk_data]   Package stopwords is already up-to-date!\n[nltk_data] Downloading package punkt to /home/nbuser/nltk_data...\n[nltk_data]   Package punkt is already up-to-date!\n",
          "name": "stdout"
        }
      ]
    },
    {
      "metadata": {},
      "cell_type": "markdown",
      "source": "# Tokenzing the text of raw data\n"
    },
    {
      "metadata": {
        "trusted": true
      },
      "cell_type": "code",
      "source": "from keras.preprocessing.text import Tokenizer\nfrom keras.preprocessing.sequence import pad_sequences\nimport numpy as np \n\nmaxlen = 100\ntraining_samples = 20000 #Change this for larger test\ntesting_samples = 5000 #Change this for larger test\nmax_words = 10000\n\ntokenizer = Tokenizer(num_words=max_words)\ntokenizer.fit_on_texts(df_text) #input text - long description\nsequences = tokenizer.texts_to_sequences(df_text)  #input text - long description\nword_index = tokenizer.word_index\nprint('Found %s unique tokens.' % len(word_index))\n\ndata = pad_sequences(sequences,maxlen=maxlen)\nlabels = np.asarray(labels) #input labels-change to array\nprint('shape of data tensor:' , data.shape)\nprint('shape of lable tensor:' , labels.shape)\n\n#indices = np.arange(data.shape[0])\n#np.random.shuffle(indices)\n#data = data[indices]\n#labels = labels[indices]\n\n\ntrain_data = data[:training_samples]\ntrain_labels = labels[:training_samples]\ntest_data = data[training_samples:training_samples + testing_samples]\ntest_labels = labels[training_samples:training_samples + testing_samples]",
      "execution_count": 82,
      "outputs": [
        {
          "output_type": "stream",
          "text": "Found 50092 unique tokens.\nshape of data tensor: (79807, 100)\nshape of lable tensor: (63845, 1)\n",
          "name": "stdout"
        }
      ]
    },
    {
      "metadata": {
        "trusted": true
      },
      "cell_type": "code",
      "source": "x_train[0]\nlen(train_data)",
      "execution_count": 77,
      "outputs": [
        {
          "output_type": "execute_result",
          "execution_count": 77,
          "data": {
            "text/plain": "60000"
          },
          "metadata": {}
        }
      ]
    },
    {
      "metadata": {
        "trusted": true
      },
      "cell_type": "code",
      "source": "len(test_data)",
      "execution_count": 78,
      "outputs": [
        {
          "output_type": "execute_result",
          "execution_count": 78,
          "data": {
            "text/plain": "19807"
          },
          "metadata": {}
        }
      ]
    },
    {
      "metadata": {},
      "cell_type": "markdown",
      "source": "# Decode tokens into English Words"
    },
    {
      "metadata": {
        "trusted": true
      },
      "cell_type": "code",
      "source": "reverse_word_index = dict([(value,key) for (key,value) in word_index.items()]) #word_index has created during tokenisation\ndecoded_report = ''.join([reverse_word_index.get(i-3,'?') for i in x_train[8]])\ndecoded_report",
      "execution_count": 45,
      "outputs": [
        {
          "output_type": "execute_result",
          "execution_count": 45,
          "data": {
            "text/plain": "'???????????????????????????????????????????????????????????????????ten?matterunableyouteamtabandsheaccountbuildingunableworkbyemail?does?francesca??eventcalleddownhasprinterdid?reportcustomerreviewisrevenue'"
          },
          "metadata": {}
        }
      ]
    },
    {
      "metadata": {},
      "cell_type": "markdown",
      "source": "# Encoding the data - Preparing for Neural Network"
    },
    {
      "metadata": {
        "trusted": true
      },
      "cell_type": "code",
      "source": "def vectorize_sequences(sequences, dimension=10000):\n    results = np.zeros((len(sequences),dimension))\n    for i,sequence in enumerate(sequences):\n        results[i,sequence] =1.\n    return results \n\nx_train = vectorize_sequences(train_data)\nx_test=vectorize_sequences(test_data)\n    ",
      "execution_count": 83,
      "outputs": []
    },
    {
      "metadata": {},
      "cell_type": "markdown",
      "source": "# Encoding the labels"
    },
    {
      "metadata": {
        "trusted": true
      },
      "cell_type": "code",
      "source": "#Write the funtion\ndef to_one_hot(labels, dimension=8):\n    results=np.zeros((len(labels),dimension))\n    for i, label in enumerate(labels):\n        results[i,label]=1.\n    return results\n\none_hot_train_labels = to_one_hot(train_labels)\none_hot_test_labels =to_one_hot(test_labels)\n\n",
      "execution_count": 124,
      "outputs": []
    },
    {
      "metadata": {
        "trusted": true
      },
      "cell_type": "code",
      "source": "#built_in method in Keras\nfrom keras.utils.np_utils import to_categorical\n\none_hot_train_labels = to_categorical(train_labels)\none_hot_test_labels = to_categorical(test_labels)",
      "execution_count": 118,
      "outputs": []
    },
    {
      "metadata": {},
      "cell_type": "markdown",
      "source": "# Model Definition"
    },
    {
      "metadata": {
        "trusted": true
      },
      "cell_type": "code",
      "source": "from keras import models\nfrom keras import layers\n\nmodel = models.Sequential()\nmodel.add(layers.Dense(64,activation='relu',input_shape=(10000,)))\nmodel.add(layers.Dense(64,activation='relu'))\nmodel.add(layers.Dense(8,activation='softmax'))",
      "execution_count": 125,
      "outputs": []
    },
    {
      "metadata": {
        "trusted": true
      },
      "cell_type": "code",
      "source": "model.compile(optimizer='rmsprop', \n              loss='categorical_crossentropy',\n              metrics=['accuracy'])",
      "execution_count": 126,
      "outputs": []
    },
    {
      "metadata": {
        "trusted": true
      },
      "cell_type": "code",
      "source": "x_val=x_train[:10000]\npartial_x_train = x_train[10000:]\n\ny_val=one_hot_train_labels[:10000]\npartial_y_train=one_hot_train_labels[10000:]\n\n",
      "execution_count": 127,
      "outputs": []
    },
    {
      "metadata": {},
      "cell_type": "markdown",
      "source": "# Training the model"
    },
    {
      "metadata": {
        "trusted": true
      },
      "cell_type": "code",
      "source": "history = model.fit(partial_x_train,\n                    partial_y_train,\n                    epochs=5,\n                    batch_size=512,\n                    validation_data=(x_val,y_val))",
      "execution_count": 128,
      "outputs": [
        {
          "output_type": "stream",
          "text": "Train on 10000 samples, validate on 10000 samples\nEpoch 1/5\n10000/10000 [==============================] - 3s 337us/step - loss: 0.8610 - acc: 0.9682 - val_loss: 0.1919 - val_acc: 0.9994\nEpoch 2/5\n10000/10000 [==============================] - 3s 265us/step - loss: 0.1009 - acc: 0.9991 - val_loss: 0.0437 - val_acc: 0.9994\nEpoch 3/5\n10000/10000 [==============================] - 3s 293us/step - loss: 0.0281 - acc: 0.9991 - val_loss: 0.0158 - val_acc: 0.9994\nEpoch 4/5\n10000/10000 [==============================] - 3s 289us/step - loss: 0.0138 - acc: 0.9991 - val_loss: 0.0093 - val_acc: 0.9994\nEpoch 5/5\n10000/10000 [==============================] - 3s 278us/step - loss: 0.0103 - acc: 0.9991 - val_loss: 0.0073 - val_acc: 0.9994\n",
          "name": "stdout"
        }
      ]
    },
    {
      "metadata": {
        "trusted": true
      },
      "cell_type": "code",
      "source": "import matplotlib.pyplot as plt\n\nloss = history.history['loss']\nval_loss = history.history['val_loss']\n\nepochs = range(1,len(loss)+1)\nplt.plot(epochs,loss,'bo',label='Traing loss')\nplt.plot(epochs,val_loss,'b', label = 'Validation loss')\nplt.title('Training and Validation loss')\nplt.xlabel('Epochs')\nplt.ylabel('Loss')\nplt.legend()\n\nplt.show()",
      "execution_count": 129,
      "outputs": [
        {
          "output_type": "display_data",
          "data": {
            "image/png": "[encoded data removed]",
            "text/plain": "<Figure size 432x288 with 1 Axes>"
          },
          "metadata": {
            "needs_background": "light"
          }
        }
      ]
    },
    {
      "metadata": {
        "trusted": true
      },
      "cell_type": "code",
      "source": "plt.clf()\n\nacc = history.history['acc']\nval_acc = history.history['val_acc']\n\nplt.plot(epochs, acc, 'bo', label= 'Training acc')\nplt.plot(epochs, val_acc, 'b', label='Validation acc')\nplt.title('Training and validation accuracy')\nplt.xlabel('Epochs')\nplt.ylabel('Loss')\nplt.legend()",
      "execution_count": 130,
      "outputs": [
        {
          "output_type": "execute_result",
          "execution_count": 130,
          "data": {
            "text/plain": "<matplotlib.legend.Legend at 0x7f22fa56ae48>"
          },
          "metadata": {}
        },
        {
          "output_type": "display_data",
          "data": {
            "image/png": "[encoded data removed]",
            "text/plain": "<Figure size 432x288 with 1 Axes>"
          },
          "metadata": {
            "needs_background": "light"
          }
        }
      ]
    },
    {
      "metadata": {},
      "cell_type": "markdown",
      "source": "# Testing  the model"
    },
    {
      "metadata": {
        "trusted": true
      },
      "cell_type": "code",
      "source": "results = model.evaluate(x_test,one_hot_test_labels)\nresults",
      "execution_count": 135,
      "outputs": [
        {
          "output_type": "stream",
          "text": "5000/5000 [==============================] - 1s 133us/step\n",
          "name": "stdout"
        }
      ]
    },
    {
      "metadata": {
        "trusted": true
      },
      "cell_type": "code",
      "source": "",
      "execution_count": 134,
      "outputs": [
        {
          "output_type": "execute_result",
          "execution_count": 134,
          "data": {
            "text/plain": "[0.010893774043169106, 0.9992]"
          },
          "metadata": {}
        }
      ]
    },
    {
      "metadata": {
        "trusted": true
      },
      "cell_type": "code",
      "source": "",
      "execution_count": null,
      "outputs": []
    }
  ],
  "metadata": {
    "kernelspec": {
      "name": "python36",
      "display_name": "Python 3.6",
      "language": "python"
    },
    "language_info": {
      "mimetype": "text/x-python",
      "nbconvert_exporter": "python",
      "name": "python",
      "pygments_lexer": "ipython3",
      "version": "3.6.6",
      "file_extension": ".py",
      "codemirror_mode": {
        "version": 3,
        "name": "ipython"
      }
    }
  },
  "nbformat": 4,
  "nbformat_minor": 1
}